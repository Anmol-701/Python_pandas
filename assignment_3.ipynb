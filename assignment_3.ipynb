{
 "cells": [
  {
   "cell_type": "markdown",
   "id": "694f24bc-3be6-409f-ba21-0b64cf3fbe39",
   "metadata": {},
   "source": [
    "### Consider following code to answer further questions:\n",
    "import pandas as pd    \n",
    "course_name = [‘Data Science’, ‘Machine Learning’, ‘Big Data’, ‘Data Engineer’]      \n",
    "duration = [2,3,6,4]      \n",
    "df = pd.DataFrame(data = {‘course_name’ : course_name, ‘duration’ : duration})     "
   ]
  },
  {
   "cell_type": "markdown",
   "id": "6e847a83-dc0a-45e9-9e5e-d739104f4c8e",
   "metadata": {},
   "source": [
    "### Problem_1:Write a code to print the data present in the second row of the dataframe, df."
   ]
  },
  {
   "cell_type": "code",
   "execution_count": 2,
   "id": "8bfad96e-10ed-4f90-9adb-605296b4973b",
   "metadata": {},
   "outputs": [
    {
     "data": {
      "text/plain": [
       "course_name    Machine Learning\n",
       "duration                      3\n",
       "Name: 1, dtype: object"
      ]
     },
     "execution_count": 2,
     "metadata": {},
     "output_type": "execute_result"
    }
   ],
   "source": [
    "import pandas as pd\n",
    "course_name = ['Data Science', 'Machine Learning', 'Big Data', 'Data Engineer']\n",
    "duration = [2,3,6,4]\n",
    "df = pd.DataFrame(data = {'course_name' : course_name, 'duration' : duration})\n",
    "df_1=df.iloc[1]\n",
    "df_1"
   ]
  },
  {
   "cell_type": "markdown",
   "id": "150bb117-6d9f-4bfc-96bc-e76e88a60e57",
   "metadata": {},
   "source": [
    "### Problem_2:What is the difference between the functions loc and iloc in pandas.DataFrame?"
   ]
  },
  {
   "cell_type": "markdown",
   "id": "d3e5a0c8-1c2c-4cd1-a65d-2ce4e69e7501",
   "metadata": {},
   "source": [
    "### loc - Label-based indexing\n",
    "\n",
    "  - Selects data using labels (index labels or column names).\n",
    "  - Offers a more intuitive way to access data based on meaning rather than position.\n",
    "  - Example: df.loc['Machine Learning'] retrieves the row where the index label is 'Machine Learning'.\n",
    "    \n",
    "### iloc - Integer-based indexing\n",
    "\n",
    "  - Selects data using integer positions within the DataFrame.\n",
    "  - Useful when you know the exact numerical location of the data you need.\n",
    "  - Example: df.iloc[1] retrieves the data in the second row (zero-based indexing starts from 0)."
   ]
  },
  {
   "cell_type": "markdown",
   "id": "a6b34f79-3816-46cf-ae13-c45cb84d940f",
   "metadata": {},
   "source": [
    "### Problem_3: Reindex the given dataframe using a variable, reindex = [3,0,1,2] and store it in the variable, new_df then find the output for both new_df.loc[2] and new_df.iloc[2].\n",
    "### Did you observe any difference in both the outputs? If so then explain it."
   ]
  },
  {
   "cell_type": "code",
   "execution_count": 11,
   "id": "56c2ef9a-ccd0-4fe8-9d47-4b4ef894af00",
   "metadata": {},
   "outputs": [
    {
     "name": "stdout",
     "output_type": "stream",
     "text": [
      "loc_result: 0    krish\n",
      "Name: 2, dtype: object\n",
      "iloc_result: 0    sudh\n",
      "Name: 1, dtype: object\n"
     ]
    },
    {
     "data": {
      "text/html": [
       "<div>\n",
       "<style scoped>\n",
       "    .dataframe tbody tr th:only-of-type {\n",
       "        vertical-align: middle;\n",
       "    }\n",
       "\n",
       "    .dataframe tbody tr th {\n",
       "        vertical-align: top;\n",
       "    }\n",
       "\n",
       "    .dataframe thead th {\n",
       "        text-align: right;\n",
       "    }\n",
       "</style>\n",
       "<table border=\"1\" class=\"dataframe\">\n",
       "  <thead>\n",
       "    <tr style=\"text-align: right;\">\n",
       "      <th></th>\n",
       "      <th>0</th>\n",
       "    </tr>\n",
       "  </thead>\n",
       "  <tbody>\n",
       "    <tr>\n",
       "      <th>3</th>\n",
       "      <td>rana</td>\n",
       "    </tr>\n",
       "    <tr>\n",
       "      <th>0</th>\n",
       "      <td>Anmol</td>\n",
       "    </tr>\n",
       "    <tr>\n",
       "      <th>1</th>\n",
       "      <td>sudh</td>\n",
       "    </tr>\n",
       "    <tr>\n",
       "      <th>2</th>\n",
       "      <td>krish</td>\n",
       "    </tr>\n",
       "  </tbody>\n",
       "</table>\n",
       "</div>"
      ],
      "text/plain": [
       "       0\n",
       "3   rana\n",
       "0  Anmol\n",
       "1   sudh\n",
       "2  krish"
      ]
     },
     "execution_count": 11,
     "metadata": {},
     "output_type": "execute_result"
    }
   ],
   "source": [
    "indexes = ['Anmol','sudh','krish','rana']\n",
    "df=pd.DataFrame(indexes)\n",
    "\n",
    "# Reindexing DataFrame using a Variable\n",
    "reindex=[3,0,1,2]\n",
    "new_df=df.reindex(reindex)\n",
    "\n",
    "# Access Data using loc and iloc\n",
    "loc_result=new_df.loc[2]\n",
    "iloc_result=new_df.iloc[2]\n",
    "\n",
    "\n",
    "# Printing Results\n",
    "print('loc_result:',loc_result)\n",
    "print('iloc_result:',iloc_result)\n",
    "\n",
    "new_df\n",
    "## Explanation\n",
    "## loc[2] uses the label position 2 of reindex DataFrame (Which is 'krish' due to reindexing )\n",
    "## iloc[2] uses integer position 2 (zero based indexing) which remains sudh after reindexing.\n"
   ]
  },
  {
   "cell_type": "markdown",
   "id": "ee245be7-0ed4-4a74-b47f-d9395762484b",
   "metadata": {},
   "source": [
    "### Consider the below code to answer further questions:\n",
    "import pandas as pd        \n",
    "import numpy as np           \n",
    "columns = ['column_1', 'column_2', 'column_3', 'column_4', 'column_5', 'column_6']             \n",
    "indices = [1,2,3,4,5,6]             \n",
    "### Creating a dataframe:                  \n",
    "df1 = pd.DataFrame(np.random.rand(6,6), columns = columns, index = indices)              "
   ]
  },
  {
   "cell_type": "markdown",
   "id": "6b6783eb-50b3-41e0-83dc-59d11fb499bc",
   "metadata": {},
   "source": [
    "### Problem_4: Write a code to find the following statistical measurements for the above dataframe df1:\n",
    "1. mean of each and every column present in the dataframe.\n",
    "2. standard deviation of column, ‘column_2’"
   ]
  },
  {
   "cell_type": "code",
   "execution_count": 31,
   "id": "17e79f8e-917e-4fc0-a193-dda95f93fef1",
   "metadata": {},
   "outputs": [
    {
     "data": {
      "text/html": [
       "<div>\n",
       "<style scoped>\n",
       "    .dataframe tbody tr th:only-of-type {\n",
       "        vertical-align: middle;\n",
       "    }\n",
       "\n",
       "    .dataframe tbody tr th {\n",
       "        vertical-align: top;\n",
       "    }\n",
       "\n",
       "    .dataframe thead th {\n",
       "        text-align: right;\n",
       "    }\n",
       "</style>\n",
       "<table border=\"1\" class=\"dataframe\">\n",
       "  <thead>\n",
       "    <tr style=\"text-align: right;\">\n",
       "      <th></th>\n",
       "      <th>column_1</th>\n",
       "      <th>column_2</th>\n",
       "      <th>column_3</th>\n",
       "      <th>column_4</th>\n",
       "      <th>column_5</th>\n",
       "      <th>column_6</th>\n",
       "    </tr>\n",
       "  </thead>\n",
       "  <tbody>\n",
       "    <tr>\n",
       "      <th>1</th>\n",
       "      <td>0.354404</td>\n",
       "      <td>0.772100</td>\n",
       "      <td>0.827610</td>\n",
       "      <td>0.695132</td>\n",
       "      <td>0.580780</td>\n",
       "      <td>0.188670</td>\n",
       "    </tr>\n",
       "    <tr>\n",
       "      <th>2</th>\n",
       "      <td>0.353513</td>\n",
       "      <td>0.149472</td>\n",
       "      <td>0.883482</td>\n",
       "      <td>0.105330</td>\n",
       "      <td>0.497512</td>\n",
       "      <td>0.676937</td>\n",
       "    </tr>\n",
       "    <tr>\n",
       "      <th>3</th>\n",
       "      <td>0.137222</td>\n",
       "      <td>0.942993</td>\n",
       "      <td>0.426812</td>\n",
       "      <td>0.056262</td>\n",
       "      <td>0.104483</td>\n",
       "      <td>0.349048</td>\n",
       "    </tr>\n",
       "    <tr>\n",
       "      <th>4</th>\n",
       "      <td>0.538790</td>\n",
       "      <td>0.660414</td>\n",
       "      <td>0.083639</td>\n",
       "      <td>0.678797</td>\n",
       "      <td>0.555867</td>\n",
       "      <td>0.678637</td>\n",
       "    </tr>\n",
       "    <tr>\n",
       "      <th>5</th>\n",
       "      <td>0.662198</td>\n",
       "      <td>0.106196</td>\n",
       "      <td>0.891411</td>\n",
       "      <td>0.145446</td>\n",
       "      <td>0.592007</td>\n",
       "      <td>0.525586</td>\n",
       "    </tr>\n",
       "    <tr>\n",
       "      <th>6</th>\n",
       "      <td>0.115994</td>\n",
       "      <td>0.710170</td>\n",
       "      <td>0.793638</td>\n",
       "      <td>0.993661</td>\n",
       "      <td>0.533118</td>\n",
       "      <td>0.700592</td>\n",
       "    </tr>\n",
       "  </tbody>\n",
       "</table>\n",
       "</div>"
      ],
      "text/plain": [
       "   column_1  column_2  column_3  column_4  column_5  column_6\n",
       "1  0.354404  0.772100  0.827610  0.695132  0.580780  0.188670\n",
       "2  0.353513  0.149472  0.883482  0.105330  0.497512  0.676937\n",
       "3  0.137222  0.942993  0.426812  0.056262  0.104483  0.349048\n",
       "4  0.538790  0.660414  0.083639  0.678797  0.555867  0.678637\n",
       "5  0.662198  0.106196  0.891411  0.145446  0.592007  0.525586\n",
       "6  0.115994  0.710170  0.793638  0.993661  0.533118  0.700592"
      ]
     },
     "execution_count": 31,
     "metadata": {},
     "output_type": "execute_result"
    }
   ],
   "source": [
    "import pandas as pd\n",
    "import numpy as np\n",
    "columns = ['column_1', 'column_2', 'column_3', 'column_4', 'column_5', 'column_6']\n",
    "indices=[1,2,3,4,5,6]\n",
    "df1=pd.DataFrame(np.random.rand(6,6), columns=columns, index = indices)\n",
    "df1"
   ]
  },
  {
   "cell_type": "code",
   "execution_count": 14,
   "id": "b079ca18-80e6-4d57-bda5-bf1dc26ebdd5",
   "metadata": {},
   "outputs": [
    {
     "data": {
      "text/html": [
       "<div>\n",
       "<style scoped>\n",
       "    .dataframe tbody tr th:only-of-type {\n",
       "        vertical-align: middle;\n",
       "    }\n",
       "\n",
       "    .dataframe tbody tr th {\n",
       "        vertical-align: top;\n",
       "    }\n",
       "\n",
       "    .dataframe thead th {\n",
       "        text-align: right;\n",
       "    }\n",
       "</style>\n",
       "<table border=\"1\" class=\"dataframe\">\n",
       "  <thead>\n",
       "    <tr style=\"text-align: right;\">\n",
       "      <th></th>\n",
       "      <th>0</th>\n",
       "    </tr>\n",
       "  </thead>\n",
       "  <tbody>\n",
       "    <tr>\n",
       "      <th>column_1</th>\n",
       "      <td>0.551223</td>\n",
       "    </tr>\n",
       "    <tr>\n",
       "      <th>column_2</th>\n",
       "      <td>0.600993</td>\n",
       "    </tr>\n",
       "    <tr>\n",
       "      <th>column_3</th>\n",
       "      <td>0.504632</td>\n",
       "    </tr>\n",
       "    <tr>\n",
       "      <th>column_4</th>\n",
       "      <td>0.604796</td>\n",
       "    </tr>\n",
       "    <tr>\n",
       "      <th>column_5</th>\n",
       "      <td>0.481127</td>\n",
       "    </tr>\n",
       "    <tr>\n",
       "      <th>column_6</th>\n",
       "      <td>0.399790</td>\n",
       "    </tr>\n",
       "  </tbody>\n",
       "</table>\n",
       "</div>"
      ],
      "text/plain": [
       "                 0\n",
       "column_1  0.551223\n",
       "column_2  0.600993\n",
       "column_3  0.504632\n",
       "column_4  0.604796\n",
       "column_5  0.481127\n",
       "column_6  0.399790"
      ]
     },
     "execution_count": 14,
     "metadata": {},
     "output_type": "execute_result"
    }
   ],
   "source": [
    "# Mean each and every column present in the dataframe.\n",
    "mean= df1[columns].mean()\n",
    "df2=pd.DataFrame(mean)\n",
    "df2"
   ]
  },
  {
   "cell_type": "code",
   "execution_count": 26,
   "id": "d9be143b-5b68-4b5f-bb6d-74dc66a9691a",
   "metadata": {},
   "outputs": [
    {
     "data": {
      "text/plain": [
       "0.26871145896646415"
      ]
     },
     "execution_count": 26,
     "metadata": {},
     "output_type": "execute_result"
    }
   ],
   "source": [
    "# Standard deviation of column, ‘column_2’\n",
    "df3=df1['column_2'].std()\n",
    "df3"
   ]
  },
  {
   "cell_type": "markdown",
   "id": "d147cc6f-99a2-4a29-aae3-8f62515da77d",
   "metadata": {},
   "source": [
    "### Problem_5: Replace the data present in the second row of column, ‘column_2’ by a string variable then find the mean of column, column_2. If you are getting errors in executing it then explain why.\n",
    "[Hint: To replace the data use df1.loc[] and equate this to string data of your choice.]"
   ]
  },
  {
   "cell_type": "code",
   "execution_count": 36,
   "id": "7f367fcc-c678-448f-9812-711cea75c5c6",
   "metadata": {},
   "outputs": [
    {
     "name": "stdout",
     "output_type": "stream",
     "text": [
      "Error: unsupported operand type(s) for +: 'float' and 'str'\n"
     ]
    }
   ],
   "source": [
    "# Replacing the Data (column_2)\n",
    "string_data='anmol'\n",
    "df1.loc[2,'column_2']=string_data\n",
    "\n",
    "# Trying to calculate the mean of 'column_2'\n",
    "try:\n",
    "    mean_column_2=df1['column_2'].mean()\n",
    "    print(\"Mean of 'column_2':\",mean_column_2)\n",
    "except TypeError as e:\n",
    "    print(\"Error:\",e)\n",
    "    \n",
    "## There is an error because mean can't be calculated for both sting and numeric datatype."
   ]
  },
  {
   "cell_type": "markdown",
   "id": "51a8723c-6e71-4a12-bf9b-9a4df638ccdd",
   "metadata": {},
   "source": [
    "### Problem_6: What do you understand about the windows function in pandas and list the types of windows functions?"
   ]
  },
  {
   "cell_type": "markdown",
   "id": "96c7e905-3978-4bcc-9bd3-5a90c0cd3f39",
   "metadata": {},
   "source": [
    "  - In pandas, window functions are a powerful tool for performing calculations on subsets of data within a DataFrame. They operate on \"windows\" of rows, enabling you to analyze trends, moving averages, or other aggregations across a defined timeframe or group.\n",
    " \n",
    "#### Types of window functions\n",
    "### Rolling window functions\n",
    "1. rolling.mean(): Computes the rolling mean within a window.\n",
    "2. rolling.sum(): Calculates the rolling sum within a window.\n",
    "3. rolling.std(): Calculates the rolling standard deviation within a window.\n",
    "4. rolling.min(): Finds the rolling minimum within a window.\n",
    "5. rolling.max(): Finds the rolling maximum within a window.\n",
    "\n",
    "### Expanding window functions\n",
    "1. expanding.mean(): Computes the expanding mean up to the current row.\n",
    "2. expanding.sum(): Calculates the expanding sum up to the current row.\n",
    "3. expanding.std(): Calculates the expanding standard deviation up to the current row.\n",
    "4. expanding.min(): Finds the expanding minimum up to the current row.\n",
    "5. expanding.max(): Finds the expanding maximum up to the current row."
   ]
  },
  {
   "cell_type": "markdown",
   "id": "3dfac1ad-4207-401a-a33d-6f7bb5e1d134",
   "metadata": {},
   "source": [
    "### Problem_7:Write a code to print only the current month and year at the time of answering this question.\n",
    "[Hint: Use pandas.datetime function]"
   ]
  },
  {
   "cell_type": "code",
   "execution_count": 41,
   "id": "e2dc51ff-9c32-4a68-80b7-376a077f13cc",
   "metadata": {},
   "outputs": [
    {
     "name": "stdout",
     "output_type": "stream",
     "text": [
      "March 2024\n"
     ]
    }
   ],
   "source": [
    "import datetime\n",
    "now=datetime.datetime.now()\n",
    "# Format date to display only month and year\n",
    "formatted_date = now.strftime(\"%B %Y\")  # %B for full month name, %Y for year\n",
    "\n",
    "print(formatted_date)\n"
   ]
  },
  {
   "cell_type": "markdown",
   "id": "727566b7-f029-484b-b142-6911e2ee72de",
   "metadata": {},
   "source": [
    "### Problem_8: Write a Python program that takes in two dates as input (in the format YYYY-MM-DD) and calculates the difference between them in days, hours, and minutes using Pandas time delta. The program should prompt the user to enter the dates and display the result."
   ]
  },
  {
   "cell_type": "code",
   "execution_count": 6,
   "id": "cad074a0-f7f4-4b3d-9963-8315c0fcc14a",
   "metadata": {},
   "outputs": [
    {
     "name": "stdin",
     "output_type": "stream",
     "text": [
      "Enter the First Date (YYYY-MM-DD):  2024-03-09\n",
      "Enter the Second Date (YYYY-MM-DD):  2002-10-25\n"
     ]
    },
    {
     "name": "stdout",
     "output_type": "stream",
     "text": [
      "days: 7806\n",
      "hours: 0\n",
      "minutes: 0\n",
      "seconds: 0\n"
     ]
    }
   ],
   "source": [
    "date_str_1 = input(\"Enter the First Date (YYYY-MM-DD): \")\n",
    "date_str_2 = input(\"Enter the Second Date (YYYY-MM-DD): \")\n",
    "\n",
    "# Convert the string to Date time object\n",
    "date_1 = pd.to_datetime(date_str_1)\n",
    "date_2 = pd.to_datetime(date_str_2)\n",
    "\n",
    "# Calculate the time delta\n",
    "time_delta = date_1 - date_2\n",
    "\n",
    "# Extract days, hours, minutes from time_delta object\n",
    "days = time_delta.days\n",
    "hours = time_delta.seconds // 3600\n",
    "minutes = (time_delta.seconds % 3600) // 60\n",
    "seconds = time_delta.seconds  \n",
    "\n",
    "print(\"days:\", days)\n",
    "print(\"hours:\", hours)\n",
    "print(\"minutes:\", minutes)\n",
    "print(\"seconds:\", seconds)  "
   ]
  },
  {
   "cell_type": "markdown",
   "id": "f56d55c8-894e-4d19-8262-b8c15f9def44",
   "metadata": {},
   "source": [
    "### Problem_9: Write a Python program that reads a CSV file containing categorical data and converts a specified column to a categorical data type. The program should prompt the user to enter the file path, column name, and category order, and then display the sorted data."
   ]
  },
  {
   "cell_type": "code",
   "execution_count": 8,
   "id": "ef74c77f-4da9-4b7e-a31d-67ff7d74b4c4",
   "metadata": {},
   "outputs": [
    {
     "name": "stdin",
     "output_type": "stream",
     "text": [
      "Enter the file path: titanic_data.csv\n",
      "Enter the column name to convert: Name\n"
     ]
    },
    {
     "name": "stdout",
     "output_type": "stream",
     "text": [
      "Sorted Data:\n",
      " PassengerId  Survived  Pclass                                  Name    Sex  Age  SibSp  Parch    Ticket  Fare Cabin Embarked\n",
      "         846         0       3                   Abbing, Mr. Anthony   male 42.0      0      0 C.A. 5547  7.55   NaN        S\n",
      "         747         0       3           Abbott, Mr. Rossmore Edward   male 16.0      1      1 C.A. 2673 20.25   NaN        S\n",
      "         280         1       3      Abbott, Mrs. Stanton (Rosa Hunt) female 35.0      1      1 C.A. 2673 20.25   NaN        S\n",
      "         309         0       2                   Abelson, Mr. Samuel   male 30.0      1      0 P/PP 3381 24.00   NaN        C\n",
      "         875         1       2 Abelson, Mrs. Samuel (Hannah Wizosky) female 28.0      1      0 P/PP 3381 24.00   NaN        C\n"
     ]
    }
   ],
   "source": [
    "file=input('Enter the file path:')\n",
    "column_name=input('Enter the column name to convert:')\n",
    "df=pd.read_csv(file)\n",
    "df[column_name]=df[column_name].astype('category')\n",
    "\n",
    "\n",
    "# sort data by coonverted columns\n",
    "df=df.sort_values(column_name).head()\n",
    "\n",
    "# Display sorted data and category order (if provided)\n",
    "print(\"Sorted Data:\")\n",
    "print(df.to_string(index=False)) "
   ]
  },
  {
   "cell_type": "markdown",
   "id": "b0918403-4ce8-486e-bc35-31b4c54f729e",
   "metadata": {},
   "source": [
    "### Problem_10: Write a Python program that reads a CSV file containing sales data for different products and visualizes the data using a stacked bar chart to show the sales of each product category over time. The program should prompt the user to enter the file path and display the chart."
   ]
  },
  {
   "cell_type": "code",
   "execution_count": null,
   "id": "c72389ee-2eb7-4557-802d-ee44829b605b",
   "metadata": {},
   "outputs": [],
   "source": [
    "import pandas as pd\n",
    "import matplotlib.pyplot as plt\n",
    "\n",
    "file_path=input('Enter the file path:')\n",
    "df=pd.read_csv(file_path)\n",
    "\n",
    "# Group the data by date and product category\n",
    "sales_by_category=df.groupby(['date','product_category'])['sales'].sum().unstack()\n",
    "\n",
    "# Creating stacked bar chart\n",
    "sales_by_category.plot(kind='bar', stacked=True, figsize=(10,6))\n",
    "plt.xlabel('date')\n",
    "plt.ylabel('sales')\n",
    "plt.title('Sales by product category over time')\n",
    "plt.legend(title='Product Category')\n",
    "plt.xticks(rotation=45)  # Rotate x-axis labels for readability\n",
    "plt.tight_layout()\n",
    "\n",
    " # Display the chart\n",
    "plt.show()"
   ]
  },
  {
   "cell_type": "markdown",
   "id": "f2a8aabf-f502-4bbd-9814-9538d7ba217c",
   "metadata": {
    "tags": []
   },
   "source": [
    "### Problem_11: You are given a CSV file containing student data that includes the student ID and their test score. Write a Python program that reads the CSV file, calculates the mean, median, and mode of the test scores, and displays the results in a table.\n",
    "#### The program should do the following:\n",
    "  - Prompt the user to enter the file path of the CSV file containing the student data\n",
    "  - Read the CSV file into a Pandas DataFrame\n",
    "  - Calculate the mean, median, and mode of the test scores using Pandas tools\n",
    "  - Display the mean, median, and mode in a table.\n",
    "\n",
    "#### Assume the CSV file contains the following columns-\n",
    "  - Student ID: The ID of the student -\n",
    "  - Test Score: The score of the student's test.\n",
    "#### Example usage of the program -\n",
    "#### Enter the file path of the CSV file containing the student data - student_data.csv\n",
    "+-----------+--------+          \n",
    "| Statistic | Value |            \n",
    "+-----------+--------+              \n",
    "| Mean | 79.6 |                  \n",
    "| Median | 82 |                \n",
    "| Mode | 85, 90 |                 \n",
    "+-----------+--------+                  \n",
    "#### Assume that the CSV file student_data.csv contains the following data:\n",
    "#### Student ID,Test Score\n",
    "1,85  \n",
    "2,90   \n",
    "3,80    \n",
    "4,75    \n",
    "5,85     \n",
    "6,82     \n",
    "7,78      \n",
    "8,85     \n",
    "9,90           \n",
    "10,85            \n",
    "The program should calculate the mean, median, and mode of the test scores and display the results in a table."
   ]
  },
  {
   "cell_type": "code",
   "execution_count": 4,
   "id": "c0339a33-f586-4d80-9c92-d676176e7a75",
   "metadata": {},
   "outputs": [
    {
     "name": "stdin",
     "output_type": "stream",
     "text": [
      "Enter the file path of the CSV file containing the student data:  student_data.csv\n"
     ]
    },
    {
     "data": {
      "text/html": [
       "<div>\n",
       "<style scoped>\n",
       "    .dataframe tbody tr th:only-of-type {\n",
       "        vertical-align: middle;\n",
       "    }\n",
       "\n",
       "    .dataframe tbody tr th {\n",
       "        vertical-align: top;\n",
       "    }\n",
       "\n",
       "    .dataframe thead th {\n",
       "        text-align: right;\n",
       "    }\n",
       "</style>\n",
       "<table border=\"1\" class=\"dataframe\">\n",
       "  <thead>\n",
       "    <tr style=\"text-align: right;\">\n",
       "      <th></th>\n",
       "      <th>mean</th>\n",
       "      <th>median</th>\n",
       "      <th>mode</th>\n",
       "    </tr>\n",
       "  </thead>\n",
       "  <tbody>\n",
       "    <tr>\n",
       "      <th>0</th>\n",
       "      <td>83.5</td>\n",
       "      <td>85.0</td>\n",
       "      <td>85</td>\n",
       "    </tr>\n",
       "  </tbody>\n",
       "</table>\n",
       "</div>"
      ],
      "text/plain": [
       "   mean  median  mode\n",
       "0  83.5    85.0    85"
      ]
     },
     "execution_count": 4,
     "metadata": {},
     "output_type": "execute_result"
    }
   ],
   "source": [
    "# Get user input\n",
    "file_path = input(\"Enter the file path of the CSV file containing the student data: \")\n",
    "\n",
    "# Read csv file\n",
    "df=pd.read_csv(file_path)\n",
    "\n",
    "\n",
    " # Calculate statistics\n",
    "statistics={\n",
    "    'mean' : df['Test_Score'].mean(),\n",
    "    'median' : df['Test_Score'].median(),\n",
    "    'mode' :df['Test_Score'].mode().tolist()\n",
    "}\n",
    "df_1=pd.DataFrame(statistics)\n",
    "df_1"
   ]
  }
 ],
 "metadata": {
  "kernelspec": {
   "display_name": "Python 3 (ipykernel)",
   "language": "python",
   "name": "python3"
  },
  "language_info": {
   "codemirror_mode": {
    "name": "ipython",
    "version": 3
   },
   "file_extension": ".py",
   "mimetype": "text/x-python",
   "name": "python",
   "nbconvert_exporter": "python",
   "pygments_lexer": "ipython3",
   "version": "3.10.8"
  }
 },
 "nbformat": 4,
 "nbformat_minor": 5
}

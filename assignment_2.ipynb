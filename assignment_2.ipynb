{
 "cells": [
  {
   "cell_type": "markdown",
   "id": "138ecc59-882f-45ce-a92c-482bad8031a4",
   "metadata": {},
   "source": [
    "### Problem_1: List any five functions of the pandas library with execution."
   ]
  },
  {
   "cell_type": "code",
   "execution_count": 2,
   "id": "97685428-f8cf-4ad5-b15b-32a5e187c1aa",
   "metadata": {},
   "outputs": [
    {
     "data": {
      "text/html": [
       "<div>\n",
       "<style scoped>\n",
       "    .dataframe tbody tr th:only-of-type {\n",
       "        vertical-align: middle;\n",
       "    }\n",
       "\n",
       "    .dataframe tbody tr th {\n",
       "        vertical-align: top;\n",
       "    }\n",
       "\n",
       "    .dataframe thead th {\n",
       "        text-align: right;\n",
       "    }\n",
       "</style>\n",
       "<table border=\"1\" class=\"dataframe\">\n",
       "  <thead>\n",
       "    <tr style=\"text-align: right;\">\n",
       "      <th></th>\n",
       "      <th>Name</th>\n",
       "      <th>Age</th>\n",
       "      <th>City</th>\n",
       "    </tr>\n",
       "  </thead>\n",
       "  <tbody>\n",
       "    <tr>\n",
       "      <th>0</th>\n",
       "      <td>Alice</td>\n",
       "      <td>25</td>\n",
       "      <td>New York</td>\n",
       "    </tr>\n",
       "    <tr>\n",
       "      <th>1</th>\n",
       "      <td>Bob</td>\n",
       "      <td>30</td>\n",
       "      <td>Los Angeles</td>\n",
       "    </tr>\n",
       "  </tbody>\n",
       "</table>\n",
       "</div>"
      ],
      "text/plain": [
       "    Name  Age         City\n",
       "0  Alice   25     New York\n",
       "1    Bob   30  Los Angeles"
      ]
     },
     "execution_count": 2,
     "metadata": {},
     "output_type": "execute_result"
    }
   ],
   "source": [
    "import pandas as pd\n",
    "# Create a sample data frame\n",
    "data = {'Name': ['Alice', 'Bob', 'Charlie', 'David'],\n",
    "        'Age': [25, 30, 22, 28],\n",
    "        'City': ['New York', 'Los Angeles', 'Chicago', 'Houston']}\n",
    "df = pd.DataFrame(data)\n",
    "#1.\n",
    "df.head(2)"
   ]
  },
  {
   "cell_type": "code",
   "execution_count": 45,
   "id": "2c18a2cd-ddfe-4310-a7c6-f683a23eb22d",
   "metadata": {},
   "outputs": [
    {
     "data": {
      "text/html": [
       "<div>\n",
       "<style scoped>\n",
       "    .dataframe tbody tr th:only-of-type {\n",
       "        vertical-align: middle;\n",
       "    }\n",
       "\n",
       "    .dataframe tbody tr th {\n",
       "        vertical-align: top;\n",
       "    }\n",
       "\n",
       "    .dataframe thead th {\n",
       "        text-align: right;\n",
       "    }\n",
       "</style>\n",
       "<table border=\"1\" class=\"dataframe\">\n",
       "  <thead>\n",
       "    <tr style=\"text-align: right;\">\n",
       "      <th></th>\n",
       "      <th>Name</th>\n",
       "      <th>Age</th>\n",
       "      <th>City</th>\n",
       "    </tr>\n",
       "  </thead>\n",
       "  <tbody>\n",
       "    <tr>\n",
       "      <th>3</th>\n",
       "      <td>David</td>\n",
       "      <td>28</td>\n",
       "      <td>Houston</td>\n",
       "    </tr>\n",
       "  </tbody>\n",
       "</table>\n",
       "</div>"
      ],
      "text/plain": [
       "    Name  Age     City\n",
       "3  David   28  Houston"
      ]
     },
     "execution_count": 45,
     "metadata": {},
     "output_type": "execute_result"
    }
   ],
   "source": [
    "#2.\n",
    "df.tail(1)"
   ]
  },
  {
   "cell_type": "code",
   "execution_count": 46,
   "id": "6bf9e3ab-12ee-499b-8b19-a8d3a856103d",
   "metadata": {},
   "outputs": [
    {
     "name": "stdout",
     "output_type": "stream",
     "text": [
      "<class 'pandas.core.frame.DataFrame'>\n",
      "RangeIndex: 4 entries, 0 to 3\n",
      "Data columns (total 3 columns):\n",
      " #   Column  Non-Null Count  Dtype \n",
      "---  ------  --------------  ----- \n",
      " 0   Name    4 non-null      object\n",
      " 1   Age     4 non-null      int64 \n",
      " 2   City    4 non-null      object\n",
      "dtypes: int64(1), object(2)\n",
      "memory usage: 224.0+ bytes\n"
     ]
    }
   ],
   "source": [
    "#3.\n",
    "df.info()"
   ]
  },
  {
   "cell_type": "code",
   "execution_count": 47,
   "id": "916e410e-a152-4d03-93a6-1bf3bdc1afd5",
   "metadata": {},
   "outputs": [
    {
     "data": {
      "text/html": [
       "<div>\n",
       "<style scoped>\n",
       "    .dataframe tbody tr th:only-of-type {\n",
       "        vertical-align: middle;\n",
       "    }\n",
       "\n",
       "    .dataframe tbody tr th {\n",
       "        vertical-align: top;\n",
       "    }\n",
       "\n",
       "    .dataframe thead th {\n",
       "        text-align: right;\n",
       "    }\n",
       "</style>\n",
       "<table border=\"1\" class=\"dataframe\">\n",
       "  <thead>\n",
       "    <tr style=\"text-align: right;\">\n",
       "      <th></th>\n",
       "      <th>Age</th>\n",
       "    </tr>\n",
       "  </thead>\n",
       "  <tbody>\n",
       "    <tr>\n",
       "      <th>count</th>\n",
       "      <td>4.00</td>\n",
       "    </tr>\n",
       "    <tr>\n",
       "      <th>mean</th>\n",
       "      <td>26.25</td>\n",
       "    </tr>\n",
       "    <tr>\n",
       "      <th>std</th>\n",
       "      <td>3.50</td>\n",
       "    </tr>\n",
       "    <tr>\n",
       "      <th>min</th>\n",
       "      <td>22.00</td>\n",
       "    </tr>\n",
       "    <tr>\n",
       "      <th>25%</th>\n",
       "      <td>24.25</td>\n",
       "    </tr>\n",
       "    <tr>\n",
       "      <th>50%</th>\n",
       "      <td>26.50</td>\n",
       "    </tr>\n",
       "    <tr>\n",
       "      <th>75%</th>\n",
       "      <td>28.50</td>\n",
       "    </tr>\n",
       "    <tr>\n",
       "      <th>max</th>\n",
       "      <td>30.00</td>\n",
       "    </tr>\n",
       "  </tbody>\n",
       "</table>\n",
       "</div>"
      ],
      "text/plain": [
       "         Age\n",
       "count   4.00\n",
       "mean   26.25\n",
       "std     3.50\n",
       "min    22.00\n",
       "25%    24.25\n",
       "50%    26.50\n",
       "75%    28.50\n",
       "max    30.00"
      ]
     },
     "execution_count": 47,
     "metadata": {},
     "output_type": "execute_result"
    }
   ],
   "source": [
    "#4.\n",
    "df.describe()"
   ]
  },
  {
   "cell_type": "code",
   "execution_count": 48,
   "id": "cc794444-3423-4b95-8806-68b9d25f70e2",
   "metadata": {},
   "outputs": [
    {
     "data": {
      "text/html": [
       "<div>\n",
       "<style scoped>\n",
       "    .dataframe tbody tr th:only-of-type {\n",
       "        vertical-align: middle;\n",
       "    }\n",
       "\n",
       "    .dataframe tbody tr th {\n",
       "        vertical-align: top;\n",
       "    }\n",
       "\n",
       "    .dataframe thead th {\n",
       "        text-align: right;\n",
       "    }\n",
       "</style>\n",
       "<table border=\"1\" class=\"dataframe\">\n",
       "  <thead>\n",
       "    <tr style=\"text-align: right;\">\n",
       "      <th></th>\n",
       "      <th>Name</th>\n",
       "      <th>Age</th>\n",
       "      <th>City</th>\n",
       "    </tr>\n",
       "  </thead>\n",
       "  <tbody>\n",
       "    <tr>\n",
       "      <th>1</th>\n",
       "      <td>Bob</td>\n",
       "      <td>30</td>\n",
       "      <td>Los Angeles</td>\n",
       "    </tr>\n",
       "    <tr>\n",
       "      <th>3</th>\n",
       "      <td>David</td>\n",
       "      <td>28</td>\n",
       "      <td>Houston</td>\n",
       "    </tr>\n",
       "    <tr>\n",
       "      <th>0</th>\n",
       "      <td>Alice</td>\n",
       "      <td>25</td>\n",
       "      <td>New York</td>\n",
       "    </tr>\n",
       "    <tr>\n",
       "      <th>2</th>\n",
       "      <td>Charlie</td>\n",
       "      <td>22</td>\n",
       "      <td>Chicago</td>\n",
       "    </tr>\n",
       "  </tbody>\n",
       "</table>\n",
       "</div>"
      ],
      "text/plain": [
       "      Name  Age         City\n",
       "1      Bob   30  Los Angeles\n",
       "3    David   28      Houston\n",
       "0    Alice   25     New York\n",
       "2  Charlie   22      Chicago"
      ]
     },
     "execution_count": 48,
     "metadata": {},
     "output_type": "execute_result"
    }
   ],
   "source": [
    "#5.\n",
    "df.sort_values(by='Age', ascending=False)"
   ]
  },
  {
   "cell_type": "markdown",
   "id": "5f56ba42-d142-41ec-a0f8-c2dac92bdafb",
   "metadata": {},
   "source": [
    "### Problem_2: Given a pandas DataFrame df with columns 'A','B' and 'C', write a python fucntion to re-index the DataFrame witha new index that starts from 1 and increments by 2 for each row."
   ]
  },
  {
   "cell_type": "code",
   "execution_count": 4,
   "id": "5656ed05-0826-4135-b898-f83b78bcdedd",
   "metadata": {},
   "outputs": [
    {
     "data": {
      "text/html": [
       "<div>\n",
       "<style scoped>\n",
       "    .dataframe tbody tr th:only-of-type {\n",
       "        vertical-align: middle;\n",
       "    }\n",
       "\n",
       "    .dataframe tbody tr th {\n",
       "        vertical-align: top;\n",
       "    }\n",
       "\n",
       "    .dataframe thead th {\n",
       "        text-align: right;\n",
       "    }\n",
       "</style>\n",
       "<table border=\"1\" class=\"dataframe\">\n",
       "  <thead>\n",
       "    <tr style=\"text-align: right;\">\n",
       "      <th></th>\n",
       "      <th>A</th>\n",
       "      <th>B</th>\n",
       "      <th>C</th>\n",
       "    </tr>\n",
       "  </thead>\n",
       "  <tbody>\n",
       "    <tr>\n",
       "      <th>1</th>\n",
       "      <td>2</td>\n",
       "      <td>5</td>\n",
       "      <td>8</td>\n",
       "    </tr>\n",
       "    <tr>\n",
       "      <th>3</th>\n",
       "      <td>4</td>\n",
       "      <td>3</td>\n",
       "      <td>2</td>\n",
       "    </tr>\n",
       "  </tbody>\n",
       "</table>\n",
       "</div>"
      ],
      "text/plain": [
       "   A  B  C\n",
       "1  2  5  8\n",
       "3  4  3  2"
      ]
     },
     "execution_count": 4,
     "metadata": {},
     "output_type": "execute_result"
    }
   ],
   "source": [
    "# function to re-index the DataFrame with a new index that starts from 1 and increment by 2 for each row\n",
    "\n",
    "\n",
    "# Sample DataFrame\n",
    "data = {'A': [1, 2, 3,4,5], 'B': [4, 5, 6,3,6], 'C': [7, 8, 9,2,8]}\n",
    "df = pd.DataFrame(data)\n",
    "\n",
    "df_1=df[1::2]\n",
    "df_1\n",
    "\n",
    "\n"
   ]
  },
  {
   "cell_type": "code",
   "execution_count": 33,
   "id": "38b18300-2b05-4096-a25c-f1077a8be1b5",
   "metadata": {},
   "outputs": [],
   "source": [
    "# Executing the re-index function\n"
   ]
  },
  {
   "cell_type": "markdown",
   "id": "2cbdc6de-45ab-48c4-9e1a-64d7e9837047",
   "metadata": {},
   "source": [
    "### Problem_3: You have a pandas DataFrame df with a column named 'Values'. Write a Python function that iterates over the DataFrame and calculates the sum of the first three values in the 'Values' column. The function should print the sum to the console.\n",
    "### For example, if the 'Values' column of df contains the values [10,20,30,40,50], your function should calculate and print the sum of the first three values, which is 60."
   ]
  },
  {
   "cell_type": "code",
   "execution_count": 58,
   "id": "f87f59db-534b-4ff7-bcc2-3ec5cf22f911",
   "metadata": {},
   "outputs": [
    {
     "name": "stdout",
     "output_type": "stream",
     "text": [
      "The sum of first three value of the 'Values' column is: 60\n"
     ]
    }
   ],
   "source": [
    "def Calculate_sum(df):\n",
    "    # Check if there atleast 3 values in the 'Values' column\n",
    "    if len(df)<3:\n",
    "        print(\"Error: The 'Value' column has less than 3 elements\")\n",
    "        return \n",
    "    # Calculate and print the sum of first three element of 'Values' column\n",
    "    sum_of_three= df['Values'].iloc[:3].sum()\n",
    "    print(f\"The sum of first three value of the 'Values' column is: {sum_of_three}\")\n",
    "# Sample Data\n",
    "data={'Values':[10,20,30,40,50,60]}\n",
    "df=pd.DataFrame(data)\n",
    "\n",
    "Calculate_sum(df.copy())"
   ]
  },
  {
   "cell_type": "markdown",
   "id": "4f85cb51-ec71-44c5-9fdb-17ba2e6804b3",
   "metadata": {},
   "source": [
    "### Problem_4: Given a pandas DataFrame df with a column 'Text', write a python function to create a new column 'word_count' that contains the number of words in each row of the 'Text' column. "
   ]
  },
  {
   "cell_type": "code",
   "execution_count": 63,
   "id": "78067176-806a-4cbd-bb65-b50d64a249b3",
   "metadata": {},
   "outputs": [
    {
     "data": {
      "text/html": [
       "<div>\n",
       "<style scoped>\n",
       "    .dataframe tbody tr th:only-of-type {\n",
       "        vertical-align: middle;\n",
       "    }\n",
       "\n",
       "    .dataframe tbody tr th {\n",
       "        vertical-align: top;\n",
       "    }\n",
       "\n",
       "    .dataframe thead th {\n",
       "        text-align: right;\n",
       "    }\n",
       "</style>\n",
       "<table border=\"1\" class=\"dataframe\">\n",
       "  <thead>\n",
       "    <tr style=\"text-align: right;\">\n",
       "      <th></th>\n",
       "      <th>Text</th>\n",
       "      <th>word_count</th>\n",
       "    </tr>\n",
       "  </thead>\n",
       "  <tbody>\n",
       "    <tr>\n",
       "      <th>0</th>\n",
       "      <td>Hi i am anmol rana</td>\n",
       "      <td>5</td>\n",
       "    </tr>\n",
       "    <tr>\n",
       "      <th>1</th>\n",
       "      <td>i am from distt. una</td>\n",
       "      <td>5</td>\n",
       "    </tr>\n",
       "    <tr>\n",
       "      <th>2</th>\n",
       "      <td>My hobbies are to playing games, cricket and r...</td>\n",
       "      <td>10</td>\n",
       "    </tr>\n",
       "  </tbody>\n",
       "</table>\n",
       "</div>"
      ],
      "text/plain": [
       "                                                Text  word_count\n",
       "0                                 Hi i am anmol rana           5\n",
       "1                               i am from distt. una           5\n",
       "2  My hobbies are to playing games, cricket and r...          10"
      ]
     },
     "execution_count": 63,
     "metadata": {},
     "output_type": "execute_result"
    }
   ],
   "source": [
    "data={'Text':['Hi i am anmol rana','i am from distt. una','My hobbies are to playing games, cricket and reading books']}\n",
    "df=pd.DataFrame(data)\n",
    "df['word_count']=df['Text'].apply(lambda x:len(x.split()))\n",
    "df"
   ]
  },
  {
   "cell_type": "markdown",
   "id": "c152b2e1-6006-4f5a-a668-86bd5a3dbc24",
   "metadata": {},
   "source": [
    "### Problem_5: How are DataFrame.size() and DataFrame.shape() different?"
   ]
  },
  {
   "cell_type": "markdown",
   "id": "5e769f3d-78ff-4179-85e0-b3c0426fc6ec",
   "metadata": {},
   "source": [
    "1. DataFrame.size()\n",
    "\n",
    "  - Returns the total number of elements in the DataFrame.\n",
    "  - This is calculated by multiplying the number of rows by the number of columns.\n",
    "  - It's essentially a single integer value representing the total number of data points in the DataFrame.\n",
    "2. DataFrame.shape\n",
    "\n",
    "  - Returns a tuple of two integers representing the dimensions of the DataFrame:\n",
    "  - The first element is the number of rows (length of the index).\n",
    "  - The second element is the number of columns."
   ]
  },
  {
   "cell_type": "markdown",
   "id": "26bbc7e8-abfa-4649-b0f1-4ed469ace25e",
   "metadata": {},
   "source": [
    "### Problem_6: Which function of pandas do we use to read an excel file?"
   ]
  },
  {
   "cell_type": "markdown",
   "id": "6ff4ad20-76ab-4162-a640-5d27fc3d41c7",
   "metadata": {},
   "source": [
    "  - 'read_xls' function of pandas is used to read the excel file"
   ]
  },
  {
   "cell_type": "markdown",
   "id": "ff4556ab-c3d5-4ac9-96ad-8cefd0631000",
   "metadata": {},
   "source": [
    "### Problem_7: You have a pandas DataFrame df that contains a column named 'Email' that contains email addresses in the format 'username@domain.com'. Write a python function that create a new column 'Username' in df that contains only the username part of each email address.\n",
    "### The username is part of the email address that appears before the '@' symbol.For example,if the email address is 'john.doe@example.com', the 'Username' column should contain 'john.doe'. Your function should extract the username from each email address and store it in the new 'Username' column."
   ]
  },
  {
   "cell_type": "code",
   "execution_count": 69,
   "id": "7092747e-15a5-435d-baa6-781478a9bf4c",
   "metadata": {},
   "outputs": [
    {
     "data": {
      "text/html": [
       "<div>\n",
       "<style scoped>\n",
       "    .dataframe tbody tr th:only-of-type {\n",
       "        vertical-align: middle;\n",
       "    }\n",
       "\n",
       "    .dataframe tbody tr th {\n",
       "        vertical-align: top;\n",
       "    }\n",
       "\n",
       "    .dataframe thead th {\n",
       "        text-align: right;\n",
       "    }\n",
       "</style>\n",
       "<table border=\"1\" class=\"dataframe\">\n",
       "  <thead>\n",
       "    <tr style=\"text-align: right;\">\n",
       "      <th></th>\n",
       "      <th>Email</th>\n",
       "      <th>Username</th>\n",
       "    </tr>\n",
       "  </thead>\n",
       "  <tbody>\n",
       "    <tr>\n",
       "      <th>0</th>\n",
       "      <td>anmolrana@gmail.com</td>\n",
       "      <td>anmolrana</td>\n",
       "    </tr>\n",
       "    <tr>\n",
       "      <th>1</th>\n",
       "      <td>mafia@gmail.com</td>\n",
       "      <td>mafia</td>\n",
       "    </tr>\n",
       "    <tr>\n",
       "      <th>2</th>\n",
       "      <td>sulekhathakur@gmail.com</td>\n",
       "      <td>sulekhathakur</td>\n",
       "    </tr>\n",
       "  </tbody>\n",
       "</table>\n",
       "</div>"
      ],
      "text/plain": [
       "                     Email       Username\n",
       "0      anmolrana@gmail.com      anmolrana\n",
       "1          mafia@gmail.com          mafia\n",
       "2  sulekhathakur@gmail.com  sulekhathakur"
      ]
     },
     "execution_count": 69,
     "metadata": {},
     "output_type": "execute_result"
    }
   ],
   "source": [
    "data={'Email':['anmolrana@gmail.com','mafia@gmail.com','sulekhathakur@gmail.com']}\n",
    "df=pd.DataFrame(data)\n",
    "df['Username']=df['Email'].str.split('@').str.get(0)\n",
    "df"
   ]
  },
  {
   "cell_type": "markdown",
   "id": "91960f5f-e950-4c4f-8c30-aad028605b9f",
   "metadata": {},
   "source": [
    "### Problem_8: You have a pandas DataFrame df with columns 'A','B' and 'C'. Write a python function that selects all rows where the value in column 'A' is greater than 5 and the value in column 'B' is less than 10. The function should return a new DataFrame that contians only the selected rows."
   ]
  },
  {
   "cell_type": "code",
   "execution_count": 74,
   "id": "4765fb45-f59f-4f2d-ae70-d74ecf95c829",
   "metadata": {},
   "outputs": [
    {
     "name": "stdout",
     "output_type": "stream",
     "text": [
      "   A  B  C\n",
      "1  8  2  7\n",
      "2  6  9  4\n",
      "4  9  1  2\n"
     ]
    }
   ],
   "source": [
    "def filter_by_conditions(df):\n",
    "    \n",
    "  # Filter rows where A > 5 and B < 10\n",
    "    filtered_df = df[(df['A'] > 5) & (df['B'] < 10)]\n",
    "\n",
    "    return filtered_df\n",
    "\n",
    "# Sample DataFrame\n",
    "data = {'A': [3,8,6,2,9],\n",
    "        'B': [5,2,9,3,1],\n",
    "        'C': [1,7,4,5,2]}\n",
    "df = pd.DataFrame(data)\n",
    "\n",
    "# Apply the filter function\n",
    "filtered_df = filter_by_conditions(df.copy())  # Apply to a copy to avoid modifying original\n",
    "print(filtered_df)"
   ]
  },
  {
   "cell_type": "markdown",
   "id": "5dfdd462-14f0-4414-8b20-05e599903f0c",
   "metadata": {},
   "source": [
    "### Problem_9: Given a pandas DataFrame df with a column 'Values', write a python function to calculate the mean, median, and standard deviation of the values in the 'Values' column."
   ]
  },
  {
   "cell_type": "code",
   "execution_count": 79,
   "id": "76652125-43f7-4f2b-ac69-2b5f08b875e3",
   "metadata": {},
   "outputs": [
    {
     "data": {
      "text/plain": [
       "{'Mean': 29.0, 'Median': 27.0, 'Standard deviation': 17.652195330892983}"
      ]
     },
     "execution_count": 79,
     "metadata": {},
     "output_type": "execute_result"
    }
   ],
   "source": [
    "data={'Values':[10,22,32,54,12,44]}\n",
    "df=pd.DataFrame(data)\n",
    "\n",
    "statistics={\n",
    "    'Mean':df['Values'].mean(),\n",
    "    'Median': df['Values'].median(),\n",
    "    'Standard deviation':df['Values'].std()\n",
    "}\n",
    "statistics"
   ]
  },
  {
   "cell_type": "markdown",
   "id": "78f92a27-520d-4f26-b796-ffc4ebcd80c9",
   "metadata": {},
   "source": [
    "### Problem_10: Given a pandas DataFrame df with a column 'Sales' and a column 'Date', write a python function to create a new column 'MovingAverage' that contains the moving average of the sales for the past 7 days for each row in the DataFrame. The moving average should be calculated using a window of size 7 and should include the current day."
   ]
  },
  {
   "cell_type": "code",
   "execution_count": 11,
   "id": "224ccdc3-4f7f-4bb6-b102-ca6dbadd3055",
   "metadata": {},
   "outputs": [
    {
     "name": "stderr",
     "output_type": "stream",
     "text": [
      "/tmp/ipykernel_77/2412518800.py:10: SettingWithCopyWarning: \n",
      "A value is trying to be set on a copy of a slice from a DataFrame\n",
      "\n",
      "See the caveats in the documentation: https://pandas.pydata.org/pandas-docs/stable/user_guide/indexing.html#returning-a-view-versus-a-copy\n",
      "  df['MovingAverage'].iloc[:7- 1] = df['Sales'].iloc[:7- 1].fillna(method='ffill')\n"
     ]
    },
    {
     "data": {
      "text/html": [
       "<div>\n",
       "<style scoped>\n",
       "    .dataframe tbody tr th:only-of-type {\n",
       "        vertical-align: middle;\n",
       "    }\n",
       "\n",
       "    .dataframe tbody tr th {\n",
       "        vertical-align: top;\n",
       "    }\n",
       "\n",
       "    .dataframe thead th {\n",
       "        text-align: right;\n",
       "    }\n",
       "</style>\n",
       "<table border=\"1\" class=\"dataframe\">\n",
       "  <thead>\n",
       "    <tr style=\"text-align: right;\">\n",
       "      <th></th>\n",
       "      <th>Date</th>\n",
       "      <th>Sales</th>\n",
       "      <th>MovingAverage</th>\n",
       "    </tr>\n",
       "  </thead>\n",
       "  <tbody>\n",
       "    <tr>\n",
       "      <th>0</th>\n",
       "      <td>2024-01-01</td>\n",
       "      <td>10</td>\n",
       "      <td>10.0</td>\n",
       "    </tr>\n",
       "    <tr>\n",
       "      <th>1</th>\n",
       "      <td>2024-01-02</td>\n",
       "      <td>20</td>\n",
       "      <td>20.0</td>\n",
       "    </tr>\n",
       "    <tr>\n",
       "      <th>2</th>\n",
       "      <td>2024-01-03</td>\n",
       "      <td>30</td>\n",
       "      <td>30.0</td>\n",
       "    </tr>\n",
       "    <tr>\n",
       "      <th>3</th>\n",
       "      <td>2024-01-04</td>\n",
       "      <td>40</td>\n",
       "      <td>40.0</td>\n",
       "    </tr>\n",
       "    <tr>\n",
       "      <th>4</th>\n",
       "      <td>2024-01-05</td>\n",
       "      <td>50</td>\n",
       "      <td>50.0</td>\n",
       "    </tr>\n",
       "    <tr>\n",
       "      <th>5</th>\n",
       "      <td>2024-01-06</td>\n",
       "      <td>60</td>\n",
       "      <td>60.0</td>\n",
       "    </tr>\n",
       "    <tr>\n",
       "      <th>6</th>\n",
       "      <td>2024-01-07</td>\n",
       "      <td>70</td>\n",
       "      <td>40.0</td>\n",
       "    </tr>\n",
       "  </tbody>\n",
       "</table>\n",
       "</div>"
      ],
      "text/plain": [
       "         Date  Sales  MovingAverage\n",
       "0  2024-01-01     10           10.0\n",
       "1  2024-01-02     20           20.0\n",
       "2  2024-01-03     30           30.0\n",
       "3  2024-01-04     40           40.0\n",
       "4  2024-01-05     50           50.0\n",
       "5  2024-01-06     60           60.0\n",
       "6  2024-01-07     70           40.0"
      ]
     },
     "execution_count": 11,
     "metadata": {},
     "output_type": "execute_result"
    }
   ],
   "source": [
    "# Sample DataFrame (assuming 'Date' is datetime and 'Sales' is numeric)\n",
    "data = {'Date': ['2024-01-01', '2024-01-02', '2024-01-03', '2024-01-04', '2024-01-05', '2024-01-06', '2024-01-07'],\n",
    "        'Sales': [10, 20, 30, 40, 50, 60, 70]}\n",
    "df = pd.DataFrame(data)\n",
    "\n",
    " # Add a new 'MovingAverage' column with NaN values\n",
    "df['MovingAverage']=df['Sales'].rolling(window=7).mean()\n",
    "\n",
    "# Fill NaN values in the first 'window_size - 1' rows with the first valid value\n",
    "df['MovingAverage'].iloc[:7- 1] = df['Sales'].iloc[:7- 1].fillna(method='ffill')\n",
    "df"
   ]
  },
  {
   "cell_type": "markdown",
   "id": "7c752c97-1b6f-4568-8c80-ce03f627491b",
   "metadata": {},
   "source": [
    "### Problem_11: You have a Pandas DataFrame df with a column 'Date'. Write a Python function that creates a new column 'Weekday' in the DataFrame. The 'Weekday' column should contain the weekday name (e.g. Monday, Tuesday)corresponding to each date in the 'Date' column."
   ]
  },
  {
   "cell_type": "code",
   "execution_count": 85,
   "id": "36a62b16-d1a2-4f43-a9b9-f4aeb8600e55",
   "metadata": {},
   "outputs": [
    {
     "data": {
      "text/html": [
       "<div>\n",
       "<style scoped>\n",
       "    .dataframe tbody tr th:only-of-type {\n",
       "        vertical-align: middle;\n",
       "    }\n",
       "\n",
       "    .dataframe tbody tr th {\n",
       "        vertical-align: top;\n",
       "    }\n",
       "\n",
       "    .dataframe thead th {\n",
       "        text-align: right;\n",
       "    }\n",
       "</style>\n",
       "<table border=\"1\" class=\"dataframe\">\n",
       "  <thead>\n",
       "    <tr style=\"text-align: right;\">\n",
       "      <th></th>\n",
       "      <th>Date</th>\n",
       "      <th>Weekday</th>\n",
       "    </tr>\n",
       "  </thead>\n",
       "  <tbody>\n",
       "    <tr>\n",
       "      <th>0</th>\n",
       "      <td>2024-03-05</td>\n",
       "      <td>Tuesday</td>\n",
       "    </tr>\n",
       "    <tr>\n",
       "      <th>1</th>\n",
       "      <td>2024-03-06</td>\n",
       "      <td>Wednesday</td>\n",
       "    </tr>\n",
       "    <tr>\n",
       "      <th>2</th>\n",
       "      <td>2024-03-07</td>\n",
       "      <td>Thursday</td>\n",
       "    </tr>\n",
       "  </tbody>\n",
       "</table>\n",
       "</div>"
      ],
      "text/plain": [
       "        Date    Weekday\n",
       "0 2024-03-05    Tuesday\n",
       "1 2024-03-06  Wednesday\n",
       "2 2024-03-07   Thursday"
      ]
     },
     "execution_count": 85,
     "metadata": {},
     "output_type": "execute_result"
    }
   ],
   "source": [
    "data={'Date':pd.to_datetime(['2024-03-05','2024-03-06','2024-03-07'])}\n",
    "df=pd.DataFrame(data)\n",
    "df['Weekday']=df['Date'].dt.day_name()\n",
    "df"
   ]
  },
  {
   "cell_type": "markdown",
   "id": "143b4f58-f3b6-48a1-9876-c20cc772f5f6",
   "metadata": {},
   "source": [
    "### Problem_12: Given a pandas DataFrame df with a column 'Date' that contains timestamps, write a python function to select all rows where the date is between '2024-01-01' and '2024-01-31'."
   ]
  },
  {
   "cell_type": "code",
   "execution_count": 3,
   "id": "73257a81-9f61-4324-95b4-bee053444f0f",
   "metadata": {},
   "outputs": [
    {
     "data": {
      "text/plain": [
       "DatetimeIndex(['2024-01-01', '2024-01-02', '2024-01-03', '2024-01-04',\n",
       "               '2024-01-05', '2024-01-06', '2024-01-07', '2024-01-08',\n",
       "               '2024-01-09', '2024-01-10', '2024-01-11', '2024-01-12',\n",
       "               '2024-01-13', '2024-01-14', '2024-01-15', '2024-01-16',\n",
       "               '2024-01-17', '2024-01-18', '2024-01-19', '2024-01-20',\n",
       "               '2024-01-21', '2024-01-22', '2024-01-23', '2024-01-24',\n",
       "               '2024-01-25', '2024-01-26', '2024-01-27', '2024-01-28',\n",
       "               '2024-01-29', '2024-01-30', '2024-01-31'],\n",
       "              dtype='datetime64[ns]', freq='D')"
      ]
     },
     "execution_count": 3,
     "metadata": {},
     "output_type": "execute_result"
    }
   ],
   "source": [
    "data=pd.date_range(start='2024-01-01',end='2024-01-31')\n",
    "data"
   ]
  },
  {
   "cell_type": "markdown",
   "id": "1d9bc8fb-daad-4a82-a233-ab6df05c39d1",
   "metadata": {},
   "source": [
    "### Problem_13: To use the basic function of pandas, what is the first and foremost necessary library that needs to be imported?"
   ]
  },
  {
   "cell_type": "markdown",
   "id": "21a294b7-5363-49da-8461-7380de2c8e17",
   "metadata": {},
   "source": [
    "  - We have to import pandas library to use the basic functions of pandas."
   ]
  }
 ],
 "metadata": {
  "kernelspec": {
   "display_name": "Python 3 (ipykernel)",
   "language": "python",
   "name": "python3"
  },
  "language_info": {
   "codemirror_mode": {
    "name": "ipython",
    "version": 3
   },
   "file_extension": ".py",
   "mimetype": "text/x-python",
   "name": "python",
   "nbconvert_exporter": "python",
   "pygments_lexer": "ipython3",
   "version": "3.10.8"
  }
 },
 "nbformat": 4,
 "nbformat_minor": 5
}

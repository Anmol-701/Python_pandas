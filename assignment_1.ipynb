{
 "cells": [
  {
   "cell_type": "markdown",
   "id": "b9bc3f35-27a2-476c-8eb1-da99d9a0ab71",
   "metadata": {},
   "source": [
    "### Problem_1: Create a Pandas Series that contains the folowing data:4,8,15,16,23 and 42. Then, print the series."
   ]
  },
  {
   "cell_type": "code",
   "execution_count": 1,
   "id": "a93036fd-66b3-4790-b5b4-a232fa7aec16",
   "metadata": {},
   "outputs": [
    {
     "data": {
      "text/plain": [
       "0     4\n",
       "1     8\n",
       "2    15\n",
       "3    16\n",
       "4    23\n",
       "5    42\n",
       "dtype: int64"
      ]
     },
     "execution_count": 1,
     "metadata": {},
     "output_type": "execute_result"
    }
   ],
   "source": [
    "import pandas as pd\n",
    "lst=[4,8,15,16,23,42]\n",
    "series=pd.Series(lst)\n",
    "series"
   ]
  },
  {
   "cell_type": "markdown",
   "id": "ae1e5395-b457-418b-a865-9fa9e36deb55",
   "metadata": {},
   "source": [
    "### Problem_2: Create a variable of list type containing 10 elements in it, and apply pandas.Series function on the variable print it."
   ]
  },
  {
   "cell_type": "code",
   "execution_count": 3,
   "id": "121e0abd-0db8-4fb6-9a70-ff7c2a8f055a",
   "metadata": {},
   "outputs": [
    {
     "data": {
      "text/plain": [
       "0     1\n",
       "1     2\n",
       "2     3\n",
       "3     4\n",
       "4     5\n",
       "5     6\n",
       "6     7\n",
       "7     8\n",
       "8     9\n",
       "9    10\n",
       "dtype: int64"
      ]
     },
     "execution_count": 3,
     "metadata": {},
     "output_type": "execute_result"
    }
   ],
   "source": [
    "lst_1=[1,2,3,4,5,6,7,8,9,10]\n",
    "var_lst=pd.Series(lst_1)\n",
    "var_lst"
   ]
  },
  {
   "cell_type": "code",
   "execution_count": 7,
   "id": "7c269fc3-07fb-4986-8c44-192cbbb322dc",
   "metadata": {},
   "outputs": [
    {
     "data": {
      "text/plain": [
       "pandas.core.series.Series"
      ]
     },
     "execution_count": 7,
     "metadata": {},
     "output_type": "execute_result"
    }
   ],
   "source": [
    "type(var_lst)"
   ]
  },
  {
   "cell_type": "markdown",
   "id": "a57e9263-7c1a-428c-9b34-14ac2c4794b3",
   "metadata": {},
   "source": [
    "### Problem_3: Create a Pandas DataFrame that contains the data like this."
   ]
  },
  {
   "cell_type": "code",
   "execution_count": 4,
   "id": "1b547a5b-6e8c-4a73-a314-36cbb6b57a65",
   "metadata": {},
   "outputs": [
    {
     "data": {
      "text/html": [
       "<div>\n",
       "<style scoped>\n",
       "    .dataframe tbody tr th:only-of-type {\n",
       "        vertical-align: middle;\n",
       "    }\n",
       "\n",
       "    .dataframe tbody tr th {\n",
       "        vertical-align: top;\n",
       "    }\n",
       "\n",
       "    .dataframe thead th {\n",
       "        text-align: right;\n",
       "    }\n",
       "</style>\n",
       "<table border=\"1\" class=\"dataframe\">\n",
       "  <thead>\n",
       "    <tr style=\"text-align: right;\">\n",
       "      <th></th>\n",
       "      <th>Name</th>\n",
       "      <th>Age</th>\n",
       "      <th>Gender</th>\n",
       "    </tr>\n",
       "  </thead>\n",
       "  <tbody>\n",
       "    <tr>\n",
       "      <th>0</th>\n",
       "      <td>Alice</td>\n",
       "      <td>25</td>\n",
       "      <td>Female</td>\n",
       "    </tr>\n",
       "    <tr>\n",
       "      <th>1</th>\n",
       "      <td>Bob</td>\n",
       "      <td>30</td>\n",
       "      <td>Male</td>\n",
       "    </tr>\n",
       "    <tr>\n",
       "      <th>2</th>\n",
       "      <td>Claire</td>\n",
       "      <td>27</td>\n",
       "      <td>Female</td>\n",
       "    </tr>\n",
       "  </tbody>\n",
       "</table>\n",
       "</div>"
      ],
      "text/plain": [
       "     Name  Age  Gender\n",
       "0   Alice   25  Female\n",
       "1     Bob   30    Male\n",
       "2  Claire   27  Female"
      ]
     },
     "execution_count": 4,
     "metadata": {},
     "output_type": "execute_result"
    }
   ],
   "source": [
    "d={'Name': ['Alice','Bob','Claire'],\n",
    "   'Age' : [25, 30, 27],\n",
    "   'Gender': ['Female','Male', 'Female']\n",
    "}\n",
    "pd.DataFrame(d)"
   ]
  },
  {
   "cell_type": "markdown",
   "id": "b28f344a-bbe1-40d1-ae13-15e22013bc16",
   "metadata": {},
   "source": [
    "### Problem_4: What is 'DataFrame' in pandas and how it is differnet from pandas.series? EXplain with an example."
   ]
  },
  {
   "cell_type": "markdown",
   "id": "1298438e-cf32-416b-81f6-972450011bf1",
   "metadata": {},
   "source": [
    "### Series:\n",
    "  - One-dimensional array-like object.\n",
    "  - Can hold data of a single data type (e.g., integers, strings).\n",
    "  - Each value in the Series is associated with a label (index).\n",
    "\n",
    "### DataFrame:\n",
    "  - Two-dimensional, tabular data structure.\n",
    "  - Can hold data of various data types in different columns.\n",
    "  - Similar to a spreadsheet with rows and columns. Each column represents a variable, and each row represents a data point.\n",
    "  - Rows are labeled with an index (optional)."
   ]
  },
  {
   "cell_type": "code",
   "execution_count": 5,
   "id": "b141daa7-71fa-4052-9891-68d37798e31f",
   "metadata": {},
   "outputs": [],
   "source": [
    "## Example to demonstrate the Series:\n",
    "# suppose we have data of grade of students\n",
    "math_grades=pd.Series([85,75,88,90])\n",
    "english_grades=pd.Series([70,86,79,91])\n",
    "science_grades=pd.Series([77,86,89,93])\n",
    "# Difficult the analyze relationships between grades in different subjects"
   ]
  },
  {
   "cell_type": "code",
   "execution_count": 7,
   "id": "3d1c1db5-da63-46ca-b90b-c89d1461ee0b",
   "metadata": {},
   "outputs": [
    {
     "data": {
      "text/html": [
       "<div>\n",
       "<style scoped>\n",
       "    .dataframe tbody tr th:only-of-type {\n",
       "        vertical-align: middle;\n",
       "    }\n",
       "\n",
       "    .dataframe tbody tr th {\n",
       "        vertical-align: top;\n",
       "    }\n",
       "\n",
       "    .dataframe thead th {\n",
       "        text-align: right;\n",
       "    }\n",
       "</style>\n",
       "<table border=\"1\" class=\"dataframe\">\n",
       "  <thead>\n",
       "    <tr style=\"text-align: right;\">\n",
       "      <th></th>\n",
       "      <th>math</th>\n",
       "      <th>English</th>\n",
       "      <th>Science</th>\n",
       "    </tr>\n",
       "  </thead>\n",
       "  <tbody>\n",
       "    <tr>\n",
       "      <th>0</th>\n",
       "      <td>85</td>\n",
       "      <td>70</td>\n",
       "      <td>77</td>\n",
       "    </tr>\n",
       "    <tr>\n",
       "      <th>1</th>\n",
       "      <td>75</td>\n",
       "      <td>86</td>\n",
       "      <td>86</td>\n",
       "    </tr>\n",
       "    <tr>\n",
       "      <th>2</th>\n",
       "      <td>88</td>\n",
       "      <td>79</td>\n",
       "      <td>89</td>\n",
       "    </tr>\n",
       "    <tr>\n",
       "      <th>3</th>\n",
       "      <td>90</td>\n",
       "      <td>91</td>\n",
       "      <td>93</td>\n",
       "    </tr>\n",
       "  </tbody>\n",
       "</table>\n",
       "</div>"
      ],
      "text/plain": [
       "   math  English  Science\n",
       "0    85       70       77\n",
       "1    75       86       86\n",
       "2    88       79       89\n",
       "3    90       91       93"
      ]
     },
     "execution_count": 7,
     "metadata": {},
     "output_type": "execute_result"
    }
   ],
   "source": [
    "# Example to demonstrate the DataFrame\n",
    "data={'math': [85,75,88,90],\n",
    "      'English': [70,86,79,91],\n",
    "      'Science': [77,86,89,93]\n",
    "}\n",
    "grades_df=pd.DataFrame(data)\n",
    "grades_df                    "
   ]
  },
  {
   "cell_type": "markdown",
   "id": "f690cddb-2e56-4ce9-8c6b-c24174c62651",
   "metadata": {},
   "source": [
    "### Problem_5: What are some common functions you can use to manipulate data in a Pandas DataFrame? Can you give an example of when you might use one of these functions? "
   ]
  },
  {
   "cell_type": "markdown",
   "id": "a4fd41c2-27e6-4562-a4e4-5bd7e0d95680",
   "metadata": {},
   "source": [
    "1. Selection:\n",
    "\n",
    "  - head(): Returns the first n rows of the DataFrame. This is useful for getting a quick glimpse of the initial data.\n",
    "  - tail(): Returns the last n rows of the DataFrame. Useful for checking for abnormalities at the end.\n",
    "  - loc[ ]: Selects rows and/or columns using labels. Great for grabbing specific data based on index or column names.\n",
    "  - iloc[ ]: Selects rows and/or columns using position. Useful for selecting data by integer position.\n",
    "  - apply(): Applies a function to each element or row/column of the DataFrame. This is versatile for creating new columns or modifying existing ones based on a custom logic."
   ]
  },
  {
   "cell_type": "code",
   "execution_count": 10,
   "id": "0981e594-2aab-4b19-b219-8a8f350407c8",
   "metadata": {},
   "outputs": [
    {
     "data": {
      "text/html": [
       "<div>\n",
       "<style scoped>\n",
       "    .dataframe tbody tr th:only-of-type {\n",
       "        vertical-align: middle;\n",
       "    }\n",
       "\n",
       "    .dataframe tbody tr th {\n",
       "        vertical-align: top;\n",
       "    }\n",
       "\n",
       "    .dataframe thead th {\n",
       "        text-align: right;\n",
       "    }\n",
       "</style>\n",
       "<table border=\"1\" class=\"dataframe\">\n",
       "  <thead>\n",
       "    <tr style=\"text-align: right;\">\n",
       "      <th></th>\n",
       "      <th>math</th>\n",
       "      <th>English</th>\n",
       "      <th>Science</th>\n",
       "      <th>Computer</th>\n",
       "      <th>Data Structure</th>\n",
       "    </tr>\n",
       "  </thead>\n",
       "  <tbody>\n",
       "    <tr>\n",
       "      <th>0</th>\n",
       "      <td>85</td>\n",
       "      <td>70</td>\n",
       "      <td>77</td>\n",
       "      <td>91</td>\n",
       "      <td>78</td>\n",
       "    </tr>\n",
       "    <tr>\n",
       "      <th>1</th>\n",
       "      <td>75</td>\n",
       "      <td>86</td>\n",
       "      <td>86</td>\n",
       "      <td>95</td>\n",
       "      <td>83</td>\n",
       "    </tr>\n",
       "  </tbody>\n",
       "</table>\n",
       "</div>"
      ],
      "text/plain": [
       "   math  English  Science  Computer  Data Structure\n",
       "0    85       70       77        91              78\n",
       "1    75       86       86        95              83"
      ]
     },
     "execution_count": 10,
     "metadata": {},
     "output_type": "execute_result"
    }
   ],
   "source": [
    "# Example of head()-- Suppose we have data \n",
    "data={'math': [85,75,88,90],\n",
    "      'English': [70,86,79,91],\n",
    "      'Science': [77,86,89,93],\n",
    "      'Computer':[91,95,92,93],\n",
    "      'Data Structure':[78,83,94,67]\n",
    "}\n",
    "grd_df=pd.DataFrame(data)\n",
    "grd_df.head(2)"
   ]
  },
  {
   "cell_type": "markdown",
   "id": "79c6705b-9ee9-42d4-bdfb-422c0969f9d8",
   "metadata": {},
   "source": [
    "### Problem_6: Which of the following is mutable in nature Series, DataFrame, Panel?"
   ]
  },
  {
   "cell_type": "markdown",
   "id": "c49ec1ca-ec39-46b1-8689-0726b26f31f6",
   "metadata": {},
   "source": [
    "### Out of the three Pandas data structures, DataFrame and Panel are mutable in nature.\n",
    "\n",
    "  - Series: While elements (values) within a Series can be changed, the size of the Series (number of elements) cannot be modified. This means you cannot add or remove elements after creating the Series.\n",
    "\n",
    "  - DataFrame: DataFrames allow modifications to both elements (values) and size. You can add, remove, or modify rows and columns within a DataFrame.\n",
    "\n",
    "  - Panel: Similar to DataFrame, Panels are also mutable. You can change element values and also add or remove elements (slices) from the Panel."
   ]
  },
  {
   "cell_type": "markdown",
   "id": "e2adf248-b2f3-4875-8a15-00161a8353ac",
   "metadata": {},
   "source": [
    "### Problem_7: Create a DataFrame using multiple Series. Explain with an example."
   ]
  },
  {
   "cell_type": "code",
   "execution_count": 2,
   "id": "7fcb10c7-218f-4e52-93db-f9d24a431dca",
   "metadata": {},
   "outputs": [
    {
     "data": {
      "text/html": [
       "<div>\n",
       "<style scoped>\n",
       "    .dataframe tbody tr th:only-of-type {\n",
       "        vertical-align: middle;\n",
       "    }\n",
       "\n",
       "    .dataframe tbody tr th {\n",
       "        vertical-align: top;\n",
       "    }\n",
       "\n",
       "    .dataframe thead th {\n",
       "        text-align: right;\n",
       "    }\n",
       "</style>\n",
       "<table border=\"1\" class=\"dataframe\">\n",
       "  <thead>\n",
       "    <tr style=\"text-align: right;\">\n",
       "      <th></th>\n",
       "      <th>Name</th>\n",
       "      <th>Age</th>\n",
       "      <th>Grade</th>\n",
       "    </tr>\n",
       "  </thead>\n",
       "  <tbody>\n",
       "    <tr>\n",
       "      <th>0</th>\n",
       "      <td>Alice</td>\n",
       "      <td>15</td>\n",
       "      <td>A</td>\n",
       "    </tr>\n",
       "    <tr>\n",
       "      <th>1</th>\n",
       "      <td>Bob</td>\n",
       "      <td>17</td>\n",
       "      <td>B</td>\n",
       "    </tr>\n",
       "    <tr>\n",
       "      <th>2</th>\n",
       "      <td>Charlie</td>\n",
       "      <td>14</td>\n",
       "      <td>A</td>\n",
       "    </tr>\n",
       "  </tbody>\n",
       "</table>\n",
       "</div>"
      ],
      "text/plain": [
       "      Name  Age Grade\n",
       "0    Alice   15     A\n",
       "1      Bob   17     B\n",
       "2  Charlie   14     A"
      ]
     },
     "execution_count": 2,
     "metadata": {},
     "output_type": "execute_result"
    }
   ],
   "source": [
    "# Creating Students data as Series:\n",
    "name_series=pd.Series(['Alice','Bob','Charlie'])\n",
    "age_series=pd.Series([15,17,14])\n",
    "grade_series=pd.Series(['A','B','A'])\n",
    "\n",
    "# Combining Series data into DataFrame\n",
    "student_data=pd.DataFrame({\n",
    "    'Name':name_series,\n",
    "    'Age':age_series,\n",
    "    'Grade':grade_series\n",
    "})\n",
    "student_data"
   ]
  }
 ],
 "metadata": {
  "kernelspec": {
   "display_name": "Python 3 (ipykernel)",
   "language": "python",
   "name": "python3"
  },
  "language_info": {
   "codemirror_mode": {
    "name": "ipython",
    "version": 3
   },
   "file_extension": ".py",
   "mimetype": "text/x-python",
   "name": "python",
   "nbconvert_exporter": "python",
   "pygments_lexer": "ipython3",
   "version": "3.10.8"
  }
 },
 "nbformat": 4,
 "nbformat_minor": 5
}
